{
  "nbformat": 4,
  "nbformat_minor": 0,
  "metadata": {
    "colab": {
      "name": "flower-classification.ipynb",
      "version": "0.3.2",
      "provenance": [],
      "collapsed_sections": [],
      "include_colab_link": true
    },
    "kernelspec": {
      "name": "python3",
      "display_name": "Python 3"
    },
    "accelerator": "GPU"
  },
  "cells": [
    {
      "cell_type": "markdown",
      "metadata": {
        "id": "view-in-github",
        "colab_type": "text"
      },
      "source": [
        "<a href=\"https://colab.research.google.com/github/Sidon/pytorch_challenge/blob/master/flower_classification.ipynb\" target=\"_parent\"><img src=\"https://colab.research.google.com/assets/colab-badge.svg\" alt=\"Open In Colab\"/></a>"
      ]
    },
    {
      "metadata": {
        "id": "Kp-xfEvj-LXJ",
        "colab_type": "code",
        "colab": {
          "base_uri": "https://localhost:8080/",
          "height": 52
        },
        "outputId": "7e8a95dd-f354-4304-f393-8dd82351c899"
      },
      "cell_type": "code",
      "source": [
        "colab_kernel = True\n",
        "\n",
        "if colab_kernel:\n",
        "  ### Install CUDA driver\n",
        "  # http://pytorch.org/\n",
        "  from os.path import exists\n",
        "  from wheel.pep425tags import get_abbr_impl, get_impl_ver, get_abi_tag\n",
        "  platform = '{}{}-{}'.format(get_abbr_impl(), get_impl_ver(), get_abi_tag())\n",
        "  cuda_output = !ldconfig -p|grep cudart.so|sed -e 's/.*\\.\\([0-9]*\\)\\.\\([0-9]*\\)$/cu\\1\\2/'\n",
        "  accelerator = cuda_output[0] if exists('/dev/nvidia0') else 'cpu'\n",
        "  !pip install -q http://download.pytorch.org/whl/{accelerator}/torch-0.4.1-{platform}-linux_x86_64.whl torchvision\n",
        "  import torch  \n",
        "  !pip install pillow==4.1.1"
      ],
      "execution_count": 1,
      "outputs": [
        {
          "output_type": "stream",
          "text": [
            "Requirement already satisfied: pillow==4.1.1 in /usr/local/lib/python3.6/dist-packages (4.1.1)\n",
            "Requirement already satisfied: olefile in /usr/local/lib/python3.6/dist-packages (from pillow==4.1.1) (0.46)\n"
          ],
          "name": "stdout"
        }
      ]
    },
    {
      "metadata": {
        "id": "B4EhoG-5bDOf",
        "colab_type": "code",
        "colab": {}
      },
      "cell_type": "code",
      "source": [
        ""
      ],
      "execution_count": 0,
      "outputs": []
    },
    {
      "metadata": {
        "id": "ex5WVc9odI3J",
        "colab_type": "code",
        "colab": {}
      },
      "cell_type": "code",
      "source": [
        "import os\n",
        "import numpy as np\n",
        "import json\n",
        "import torch\n",
        "from torchvision import datasets as tv_dataset, models\n",
        "from torchvision import transforms as tv_transforms\n",
        "from torchvision.utils import make_grid\n",
        "from torch.utils.data.sampler import SubsetRandomSampler\n",
        "import matplotlib.pyplot as plt\n",
        "import torch.nn as nn\n",
        "import torch.nn.functional as F\n",
        "import torch.optim as optim\n",
        "import sys"
      ],
      "execution_count": 0,
      "outputs": []
    },
    {
      "metadata": {
        "id": "we5dTUEO5jRg",
        "colab_type": "code",
        "colab": {}
      },
      "cell_type": "code",
      "source": [
        "def mount_gdrive():\n",
        "  from google.colab import drive\n",
        "  google_drive_mount = 'gdrive/'\n",
        "  drive.mount(\"gdrive/\", force_remount=True)"
      ],
      "execution_count": 0,
      "outputs": []
    },
    {
      "metadata": {
        "id": "835vtFEgZCbd",
        "colab_type": "code",
        "colab": {
          "base_uri": "https://localhost:8080/",
          "height": 34
        },
        "outputId": "0b4077f6-c62b-48e3-9d8a-3c98324ef6ff"
      },
      "cell_type": "code",
      "source": [
        "if colab_kernel:\n",
        "  mount_gdrive()\n",
        "  !cp 'gdrive/My Drive/colab/pytorch0/torch_helper.py' .\n",
        "  !cp 'gdrive/My Drive/colab/pytorch0/train_model.py' .\n",
        "  !cp 'gdrive/My Drive/colab/pytorch0/util_helper.py' .\n",
        "  !cp 'gdrive/My Drive/colab/pytorch0/cat_to_name.json' .\n",
        "  !cp 'gdrive/My Drive/colab/pytorch0/plt_helper.py' ."
      ],
      "execution_count": 3,
      "outputs": [
        {
          "output_type": "stream",
          "text": [
            "Mounted at gdrive/\n"
          ],
          "name": "stdout"
        }
      ]
    },
    {
      "metadata": {
        "id": "feQEY-2Z88gk",
        "colab_type": "code",
        "colab": {}
      },
      "cell_type": "code",
      "source": [
        "# My packages imports\n",
        "import torch_helper as thelper\n",
        "import plt_helper\n",
        "import util_helper\n",
        "import train_model\n",
        "\n",
        "if colab_kernel:\n",
        "  data_dir = \"gdrive/My Drive/colab/flower_data\"\n",
        "  train_dir = data_dir + '/train'\n",
        "  valid_dir = data_dir + '/valid'\n",
        "  sys.path.insert(0,'gdrive/My Drive/colab/pytorch0')\n",
        "  gpu_on = True\n",
        "else:\n",
        "  data_dir = \"./assets/flower_data\"\n",
        "  train_dir = os.path.join(data_dir, 'train/')\n",
        "  valid_dir = os.path.join(data_dir, 'valid/')\n",
        "  gpu_on = False\n",
        "\n"
      ],
      "execution_count": 0,
      "outputs": []
    },
    {
      "metadata": {
        "id": "3vzzoFy_Qy0S",
        "colab_type": "code",
        "colab": {}
      },
      "cell_type": "code",
      "source": [
        "# Creating transforms\n",
        "normalize = ([0.485, 0.456, 0.406],[0.229, 0.224, 0.225])\n",
        "crop = 224\n",
        "resize = 256\n",
        "\n",
        "augment = [tv_transforms.RandomRotation(30), tv_transforms.RandomHorizontalFlip(),\n",
        "           tv_transforms.CenterCrop(224), tv_transforms.RandomVerticalFlip()]\n",
        "\n",
        "transforms = {}\n",
        "transforms['validation'] = thelper.Transforms.validation(resize=resize, crop=crop, normalize=normalize)\n",
        "transforms['train'] = thelper.Transforms.train(augment=augment, normalize=normalize)"
      ],
      "execution_count": 0,
      "outputs": []
    },
    {
      "metadata": {
        "id": "WCYBrVJ-NwQ4",
        "colab_type": "code",
        "colab": {}
      },
      "cell_type": "code",
      "source": [
        "# Creating datasets\n",
        "dataset = {}\n",
        "dataset['train'] = thelper.Dataset.dataset(train_dir, transforms['train'])\n",
        "dataset['validation'] = thelper.Dataset.dataset(valid_dir, transforms['validation'])"
      ],
      "execution_count": 0,
      "outputs": []
    },
    {
      "metadata": {
        "id": "t7cLBS1gOp5X",
        "colab_type": "code",
        "colab": {}
      },
      "cell_type": "code",
      "source": [
        "# Creating dataloaders\n",
        "data_loader = {}\n",
        "data_loader['train'] = thelper.Loaders.loader(dataset['train'])\n",
        "data_loader['validation'] = thelper.Loaders.loader(dataset['validation'])"
      ],
      "execution_count": 0,
      "outputs": []
    },
    {
      "metadata": {
        "id": "pZAHFxDQ-_EK",
        "colab_type": "code",
        "colab": {}
      },
      "cell_type": "code",
      "source": [
        "# Label mapping\n",
        "with open('gdrive/My Drive/colab/pytorch0/cat_to_name.json', 'r') as f:\n",
        "    cat_to_name = json.load(f)\n",
        "label_map=cat_to_name"
      ],
      "execution_count": 0,
      "outputs": []
    },
    {
      "metadata": {
        "id": "TCrig9gX4FyJ",
        "colab_type": "text"
      },
      "cell_type": "markdown",
      "source": [
        "Abaixo uma celula para apresentar um batch de imagens mas no colab esta ocorrendo um erro do pill"
      ]
    },
    {
      "metadata": {
        "id": "Du9dABOIDw-J",
        "colab_type": "code",
        "colab": {}
      },
      "cell_type": "code",
      "source": [
        "# # Get a batch of training data\n",
        "# images, labels = next(iter(data_loader['train']))\n",
        "\n",
        "# # Get some images from batch\n",
        "# # images, labels = util_helper.rnd_classes(batch_images, classes_batch_images, label_map, k=4)\n",
        "\n",
        "# images = images.numpy() # convert images to numpy for display\n",
        "# labels = labels.numpy()\n",
        "\n",
        "# # plot the images in the batch, along with the corresponding labels\n",
        "# fig = plt.figure(figsize=(25, 4))\n",
        "# for idx in np.arange(20):\n",
        "#     ax = fig.add_subplot(2, 20/2, idx+1, xticks=[], yticks=[])\n",
        "#     # plt.imshow(np.transpose(images[idx], (1, 2, 0)).astype(np.uint8))\n",
        "#     plt.imshow(np.transpose(images[idx], (1, 2, 0)))\n",
        "#     ax.set_title(label_map[str(labels[idx])])\n",
        "\n",
        "\n",
        "# # # Make a grid from batch\n",
        "# # grid = make_grid(images)\n",
        "\n",
        "# # # Plot grid\n",
        "# # plt_helper.image_show(grid, title = [label[1] for label in labels])"
      ],
      "execution_count": 0,
      "outputs": []
    },
    {
      "metadata": {
        "id": "Yqu19OnlSCXQ",
        "colab_type": "code",
        "colab": {}
      },
      "cell_type": "code",
      "source": [
        "# Create network\n",
        "out_features = 102\n",
        "# my_net = thelper.MyNet('resnet152', out_features=out_features)\n",
        "my_net = thelper.MyNet('vgg16', out_features=out_features)"
      ],
      "execution_count": 0,
      "outputs": []
    },
    {
      "metadata": {
        "id": "itSvNsuhWErt",
        "colab_type": "code",
        "colab": {}
      },
      "cell_type": "code",
      "source": [
        "# specify loss function (categorical cross-entropy)\n",
        "criterion = nn.CrossEntropyLoss()\n",
        "\n",
        "# specify optimizer (stochastic gradient descent) and learning rate = 0.001\n",
        "optimizer = my_net.create_optmizer()"
      ],
      "execution_count": 0,
      "outputs": []
    },
    {
      "metadata": {
        "id": "BRsTC4sjSFYH",
        "colab_type": "code",
        "colab": {}
      },
      "cell_type": "code",
      "source": [
        "# Create training object\n",
        "train = train_model.TrainModel(my_net.model, data_loader['train'], data_loader['validation'], criterion, optimizer,   \n",
        "                               model_name=my_net.trained_model, gpu_on=gpu_on)"
      ],
      "execution_count": 0,
      "outputs": []
    },
    {
      "metadata": {
        "id": "EhPzv-rySFrp",
        "colab_type": "code",
        "colab": {}
      },
      "cell_type": "code",
      "source": [
        "train.train()"
      ],
      "execution_count": 0,
      "outputs": []
    }
  ]
}