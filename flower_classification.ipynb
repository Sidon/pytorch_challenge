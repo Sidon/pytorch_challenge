{
  "nbformat": 4,
  "nbformat_minor": 0,
  "metadata": {
    "colab": {
      "name": "flower-classification.ipynb",
      "version": "0.3.2",
      "provenance": [],
      "include_colab_link": true
    },
    "kernelspec": {
      "name": "python3",
      "display_name": "Python 3"
    },
    "accelerator": "GPU"
  },
  "cells": [
    {
      "cell_type": "markdown",
      "metadata": {
        "id": "view-in-github",
        "colab_type": "text"
      },
      "source": [
        "<a href=\"https://colab.research.google.com/github/Sidon/pytorch_challenge/blob/master/flower_classification.ipynb\" target=\"_parent\"><img src=\"https://colab.research.google.com/assets/colab-badge.svg\" alt=\"Open In Colab\"/></a>"
      ]
    },
    {
      "metadata": {
        "id": "Kp-xfEvj-LXJ",
        "colab_type": "code",
        "colab": {}
      },
      "cell_type": "code",
      "source": [
        "# http://pytorch.org/\n",
        "from os.path import exists\n",
        "from wheel.pep425tags import get_abbr_impl, get_impl_ver, get_abi_tag\n",
        "platform = '{}{}-{}'.format(get_abbr_impl(), get_impl_ver(), get_abi_tag())\n",
        "cuda_output = !ldconfig -p|grep cudart.so|sed -e 's/.*\\.\\([0-9]*\\)\\.\\([0-9]*\\)$/cu\\1\\2/'\n",
        "accelerator = cuda_output[0] if exists('/dev/nvidia0') else 'cpu'\n",
        "\n",
        "!pip install -q http://download.pytorch.org/whl/{accelerator}/torch-0.4.1-{platform}-linux_x86_64.whl torchvision\n",
        "import torch"
      ],
      "execution_count": 0,
      "outputs": []
    },
    {
      "metadata": {
        "id": "-ieK1K8H_wLc",
        "colab_type": "code",
        "colab": {}
      },
      "cell_type": "code",
      "source": [
        "### Install CUDA driver\n",
        "# http://pytorch.org/\n",
        "from os.path import exists\n",
        "from wheel.pep425tags import get_abbr_impl, get_impl_ver, get_abi_tag\n",
        "platform = '{}{}-{}'.format(get_abbr_impl(), get_impl_ver(), get_abi_tag())\n",
        "cuda_output = !ldconfig -p|grep cudart.so|sed -e 's/.*\\.\\([0-9]*\\)\\.\\([0-9]*\\)$/cu\\1\\2/'\n",
        "accelerator = cuda_output[0] if exists('/dev/nvidia0') else 'cpu'\n",
        "\n",
        "!pip install -q http://download.pytorch.org/whl/{accelerator}/torch-0.4.1-{platform}-linux_x86_64.whl torchvision"
      ],
      "execution_count": 0,
      "outputs": []
    },
    {
      "metadata": {
        "id": "a_i3beIIEkq-",
        "colab_type": "code",
        "outputId": "de57d9b8-87d8-495e-9840-d4ff3496cf33",
        "colab": {
          "base_uri": "https://localhost:8080/",
          "height": 34
        }
      },
      "cell_type": "code",
      "source": [
        "!pip install -U pillow"
      ],
      "execution_count": 2,
      "outputs": [
        {
          "output_type": "stream",
          "text": [
            "Requirement already up-to-date: pillow in /usr/local/lib/python3.6/dist-packages (5.4.0)\n"
          ],
          "name": "stdout"
        }
      ]
    },
    {
      "metadata": {
        "id": "ex5WVc9odI3J",
        "colab_type": "code",
        "colab": {}
      },
      "cell_type": "code",
      "source": [
        "import os\n",
        "import numpy as np\n",
        "import json\n",
        "import torch\n",
        "from torchvision import datasets as tv_dataset, models\n",
        "from torchvision import transforms as tv_transforms\n",
        "from torchvision.utils import make_grid\n",
        "from torch.utils.data.sampler import SubsetRandomSampler\n",
        "import matplotlib.pyplot as plt\n",
        "import torch.nn as nn\n",
        "import torch.nn.functional as F\n",
        "import torch.optim as optim\n",
        "import sys"
      ],
      "execution_count": 0,
      "outputs": []
    },
    {
      "metadata": {
        "id": "we5dTUEO5jRg",
        "colab_type": "code",
        "colab": {}
      },
      "cell_type": "code",
      "source": [
        "def mount_gdrive():\n",
        "  from google.colab import drive\n",
        "  google_drive_mount = 'gdrive/'\n",
        "  drive.mount(\"gdrive/\", force_remount=True)\n",
        "  \n"
      ],
      "execution_count": 0,
      "outputs": []
    },
    {
      "metadata": {
        "id": "-4zFsgeEctqD",
        "colab_type": "code",
        "outputId": "a2e643f4-46cb-4e63-a8fe-931d149c6b18",
        "colab": {
          "base_uri": "https://localhost:8080/",
          "height": 34
        }
      },
      "cell_type": "code",
      "source": [
        "colab_kernel = True\n",
        "if colab_kernel:\n",
        "  mount_gdrive()\n"
      ],
      "execution_count": 5,
      "outputs": [
        {
          "output_type": "stream",
          "text": [
            "Mounted at gdrive/\n"
          ],
          "name": "stdout"
        }
      ]
    },
    {
      "metadata": {
        "id": "835vtFEgZCbd",
        "colab_type": "code",
        "colab": {}
      },
      "cell_type": "code",
      "source": [
        "!cp 'gdrive/My Drive/colab/pytorch0/torch_helper.py' .\n",
        "!cp 'gdrive/My Drive/colab/pytorch0/train_model.py' .\n",
        "!cp 'gdrive/My Drive/colab/pytorch0/util_helper.py' .\n",
        "!cp 'gdrive/My Drive/colab/pytorch0/cat_to_name.json' .\n",
        "!cp 'gdrive/My Drive/colab/pytorch0/plt_helper.py' ."
      ],
      "execution_count": 0,
      "outputs": []
    },
    {
      "metadata": {
        "id": "feQEY-2Z88gk",
        "colab_type": "code",
        "colab": {}
      },
      "cell_type": "code",
      "source": [
        "# Package imports\n",
        "\n",
        "if colab_kernel:\n",
        "  # sys.path.insert(0,'gdrive/My Drive/colab/pytorch0')\n",
        "  import torch_helper as thelper\n",
        "  import plt_helper\n",
        "  import util_helper\n",
        "  import train_model\n",
        "\n"
      ],
      "execution_count": 0,
      "outputs": []
    },
    {
      "metadata": {
        "id": "d-Xdu4QAbnPs",
        "colab_type": "code",
        "colab": {}
      },
      "cell_type": "code",
      "source": [
        "!ls"
      ],
      "execution_count": 0,
      "outputs": []
    },
    {
      "metadata": {
        "id": "TUsp8r5M-c8s",
        "colab_type": "code",
        "colab": {}
      },
      "cell_type": "code",
      "source": [
        "if colab_kernel:\n",
        "  data_dir = \"gdrive/My Drive/colab/flower_data\"\n",
        "  train_dir = data_dir + '/train'\n",
        "  valid_dir = data_dir + '/valid'"
      ],
      "execution_count": 0,
      "outputs": []
    },
    {
      "metadata": {
        "id": "3vzzoFy_Qy0S",
        "colab_type": "code",
        "colab": {}
      },
      "cell_type": "code",
      "source": [
        "# Creating transforms\n",
        "normalize = ([0.485, 0.456, 0.406],[0.229, 0.224, 0.225])\n",
        "crop = 224\n",
        "resize = 256\n",
        "\n",
        "augment = [tv_transforms.RandomRotation(30), tv_transforms.RandomHorizontalFlip(),\n",
        "           tv_transforms.CenterCrop(224), tv_transforms.RandomVerticalFlip()]\n",
        "\n",
        "transforms = {}\n",
        "transforms['validation'] = thelper.Transforms.validation(resize=resize, crop=crop, normalize=normalize)\n",
        "transforms['train'] = thelper.Transforms.train(augment=augment, normalize=normalize)"
      ],
      "execution_count": 0,
      "outputs": []
    },
    {
      "metadata": {
        "id": "WCYBrVJ-NwQ4",
        "colab_type": "code",
        "colab": {}
      },
      "cell_type": "code",
      "source": [
        "# Creating datasets\n",
        "dataset = {}\n",
        "dataset['train'] = thelper.Dataset.dataset(train_dir, transforms['train'])\n",
        "dataset['validation'] = thelper.Dataset.dataset(valid_dir, transforms['validation'])"
      ],
      "execution_count": 0,
      "outputs": []
    },
    {
      "metadata": {
        "id": "t7cLBS1gOp5X",
        "colab_type": "code",
        "colab": {}
      },
      "cell_type": "code",
      "source": [
        "# Creating dataloaders\n",
        "data_loader = {}\n",
        "data_loader['train'] = thelper.Loaders.loader(dataset['train'])\n",
        "data_loader['validation'] = thelper.Loaders.loader(dataset['validation'])"
      ],
      "execution_count": 0,
      "outputs": []
    },
    {
      "metadata": {
        "id": "pZAHFxDQ-_EK",
        "colab_type": "code",
        "colab": {}
      },
      "cell_type": "code",
      "source": [
        "# Label mapping\n",
        "with open('gdrive/My Drive/colab/pytorch0/cat_to_name.json', 'r') as f:\n",
        "    cat_to_name = json.load(f)\n",
        "label_map=cat_to_name"
      ],
      "execution_count": 0,
      "outputs": []
    },
    {
      "metadata": {
        "id": "TCrig9gX4FyJ",
        "colab_type": "text"
      },
      "cell_type": "markdown",
      "source": [
        "Abaixo uma celula para apresentar um batch de imagens mas no colab esta ocorrendo um erro do pill"
      ]
    },
    {
      "metadata": {
        "id": "Du9dABOIDw-J",
        "colab_type": "code",
        "colab": {}
      },
      "cell_type": "code",
      "source": [
        "# # Get a batch of training data\n",
        "# images, labels = next(iter(data_loader['train']))\n",
        "\n",
        "# # Get some images from batch\n",
        "# # images, labels = util_helper.rnd_classes(batch_images, classes_batch_images, label_map, k=4)\n",
        "\n",
        "# images = images.numpy() # convert images to numpy for display\n",
        "# labels = labels.numpy()\n",
        "\n",
        "# # plot the images in the batch, along with the corresponding labels\n",
        "# fig = plt.figure(figsize=(25, 4))\n",
        "# for idx in np.arange(20):\n",
        "#     ax = fig.add_subplot(2, 20/2, idx+1, xticks=[], yticks=[])\n",
        "#     # plt.imshow(np.transpose(images[idx], (1, 2, 0)).astype(np.uint8))\n",
        "#     plt.imshow(np.transpose(images[idx], (1, 2, 0)))\n",
        "#     ax.set_title(label_map[str(labels[idx])])\n",
        "\n",
        "\n",
        "# # # Make a grid from batch\n",
        "# # grid = make_grid(images)\n",
        "\n",
        "# # # Plot grid\n",
        "# # plt_helper.image_show(grid, title = [label[1] for label in labels])"
      ],
      "execution_count": 0,
      "outputs": []
    },
    {
      "metadata": {
        "id": "Yqu19OnlSCXQ",
        "colab_type": "code",
        "outputId": "a32aed15-5894-4a52-e3da-c18e70db80e8",
        "colab": {
          "base_uri": "https://localhost:8080/",
          "height": 70
        }
      },
      "cell_type": "code",
      "source": [
        "# Create network\n",
        "out_features = 102\n",
        "# my_net = thelper.MyNet('resnet152', out_features=out_features)\n",
        "mount_gdrive()\n",
        "my_net = thelper.MyNet('vgg16', out_features=out_features)"
      ],
      "execution_count": 18,
      "outputs": [
        {
          "output_type": "stream",
          "text": [
            "Mounted at gdrive/\n"
          ],
          "name": "stdout"
        },
        {
          "output_type": "stream",
          "text": [
            "Downloading: \"https://download.pytorch.org/models/vgg16-397923af.pth\" to /root/.torch/models/vgg16-397923af.pth\n",
            "100%|██████████| 553433881/553433881 [00:33<00:00, 16758625.57it/s]\n"
          ],
          "name": "stderr"
        }
      ]
    },
    {
      "metadata": {
        "id": "itSvNsuhWErt",
        "colab_type": "code",
        "colab": {}
      },
      "cell_type": "code",
      "source": [
        "# specify loss function (categorical cross-entropy)\n",
        "criterion = nn.CrossEntropyLoss()\n",
        "\n",
        "# specify optimizer (stochastic gradient descent) and learning rate = 0.001\n",
        "optimizer = my_net.create_optmizer()"
      ],
      "execution_count": 0,
      "outputs": []
    },
    {
      "metadata": {
        "id": "BRsTC4sjSFYH",
        "colab_type": "code",
        "colab": {}
      },
      "cell_type": "code",
      "source": [
        "# Create training object\n",
        "\n",
        "# model, train_loader, validation_loader, criterion, optimizer, colab_kernel=False, epochs=3,\n",
        "#              gpu_on=False, model_name = None):\n",
        "\n",
        "\n",
        "train = train_model.TrainModel(my_net.model, data_loader['train'], data_loader['validation'], criterion, optimizer,   \n",
        "                               model_name=my_net.trained_model, gpu_on=True )"
      ],
      "execution_count": 0,
      "outputs": []
    },
    {
      "metadata": {
        "id": "EhPzv-rySFrp",
        "colab_type": "code",
        "colab": {
          "base_uri": "https://localhost:8080/",
          "height": 351
        },
        "outputId": "a368e880-d12b-4109-ec23-43ee41cd2834"
      },
      "cell_type": "code",
      "source": [
        "train.train()"
      ],
      "execution_count": 0,
      "outputs": [
        {
          "output_type": "stream",
          "text": [
            "Step:  1 epoch:  0 training_loss:  4.6681437492370605\n",
            "Step:  2 epoch:  0 training_loss:  9.300402164459229\n",
            "Step:  3 epoch:  0 training_loss:  13.868295192718506\n",
            "Step:  4 epoch:  0 training_loss:  18.48255491256714\n",
            "Step:  5 epoch:  0 training_loss:  23.11095666885376\n",
            "Step:  6 epoch:  0 training_loss:  27.80910062789917\n",
            "Step:  7 epoch:  0 training_loss:  32.475882053375244\n",
            "Step:  8 epoch:  0 training_loss:  37.116429805755615\n",
            "Step:  9 epoch:  0 training_loss:  41.71677827835083\n",
            "Step:  10 epoch:  0 training_loss:  46.3550500869751\n",
            "Step:  11 epoch:  0 training_loss:  50.99484729766846\n",
            "Step:  12 epoch:  0 training_loss:  55.60764408111572\n",
            "Step:  13 epoch:  0 training_loss:  60.24363088607788\n",
            "Step:  14 epoch:  0 training_loss:  64.85625505447388\n",
            "Step:  15 epoch:  0 training_loss:  69.4524507522583\n",
            "Step:  16 epoch:  0 training_loss:  74.11461400985718\n",
            "Step:  17 epoch:  0 training_loss:  78.72568893432617\n",
            "Step:  18 epoch:  0 training_loss:  83.3608627319336\n",
            "Step:  19 epoch:  0 training_loss:  87.96230125427246\n"
          ],
          "name": "stdout"
        }
      ]
    }
  ]
}